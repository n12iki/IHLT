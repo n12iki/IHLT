{
  "nbformat": 4,
  "nbformat_minor": 0,
  "metadata": {
    "colab": {
      "name": "Lab04-Santiago-del-Rey-Juarez_Nikita-Belooussov.ipynb",
      "provenance": [],
      "collapsed_sections": []
    },
    "kernelspec": {
      "display_name": "Python 3",
      "name": "python3"
    },
    "language_info": {
      "name": "python"
    },
    "accelerator": "GPU"
  },
  "cells": [
    {
      "cell_type": "markdown",
      "metadata": {
        "id": "2jMkKylwoeys"
      },
      "source": [
        "Written by Santiagode Rey Juarez and Nikita Belooussov\n",
        "\n",
        "Consider Treebank corpus.\n",
        "\n",
        "Train HMM, TnT, perceptron and CRF models using the first 500, 1000, 1500, 2000, 2500 and 3000 sentences.\n",
        "\n",
        "Evaluate the resulting 24 models using sentences from 3001."
      ]
    },
    {
      "cell_type": "code",
      "metadata": {
        "colab": {
          "base_uri": "https://localhost:8080/"
        },
        "id": "Y7QuqXTt5QIM",
        "outputId": "96202d07-d3ec-498c-e00e-9ed804693c62"
      },
      "source": [
        "!pip install python-crfsuite"
      ],
      "execution_count": null,
      "outputs": [
        {
          "output_type": "stream",
          "name": "stdout",
          "text": [
            "Requirement already satisfied: python-crfsuite in /usr/local/lib/python3.7/dist-packages (0.9.7)\n"
          ]
        }
      ]
    },
    {
      "cell_type": "code",
      "metadata": {
        "colab": {
          "base_uri": "https://localhost:8080/"
        },
        "id": "f9ph04RSpuCe",
        "outputId": "6ae8eb41-08a4-4060-ed3f-33320edd624f"
      },
      "source": [
        "import nltk\n",
        "import pandas as pd\n",
        "import seaborn as sns\n",
        "import time\n",
        "\n",
        "nltk.download('treebank')\n",
        "train_data1 = nltk.corpus.treebank.tagged_sents()[:500]\n",
        "train_data2 = nltk.corpus.treebank.tagged_sents()[:1000]\n",
        "train_data3 = nltk.corpus.treebank.tagged_sents()[:1500]\n",
        "train_data4 = nltk.corpus.treebank.tagged_sents()[:2000]\n",
        "train_data5 = nltk.corpus.treebank.tagged_sents()[:2500]\n",
        "train_data6 = nltk.corpus.treebank.tagged_sents()[:3000]\n",
        "dataArray=[train_data1,train_data2,train_data3,train_data4,train_data5,train_data6]\n",
        "test_data = nltk.corpus.treebank.tagged_sents()[3000:]\n",
        "\n",
        "x=[500,1000,1500,2000,2500,3000]"
      ],
      "execution_count": null,
      "outputs": [
        {
          "output_type": "stream",
          "name": "stdout",
          "text": [
            "[nltk_data] Downloading package treebank to /root/nltk_data...\n",
            "[nltk_data]   Package treebank is already up-to-date!\n"
          ]
        }
      ]
    },
    {
      "cell_type": "code",
      "metadata": {
        "id": "1I9m1g6KqJRJ",
        "colab": {
          "base_uri": "https://localhost:8080/"
        },
        "outputId": "7bf149f4-cdff-4f3f-ecc0-9cea59dc19cc"
      },
      "source": [
        "#CRF\n",
        "CRF = nltk.tag.CRFTagger()\n",
        "CRF_results = []\n",
        "timeCRF=[]\n",
        "eval_time_CRF=[]\n",
        "for train_data in dataArray:\n",
        "  print(\"trainded on\", len(train_data))\n",
        "  start_time = time.time()\n",
        "  CRF.train(train_data,'crf_tagger_model')\n",
        "  time_spent = time.time() - start_time\n",
        "  timeCRF.append(time_spent)\n",
        "  start_time = time.time()\n",
        "  accuracy = round(CRF.evaluate(test_data), 3)\n",
        "  eval_time = time.time() - start_time\n",
        "  eval_time_CRF.append(eval_time)\n",
        "  CRF_results.append(accuracy)\n",
        "  print('accuracy: ' + str(accuracy))\n",
        "  test=CRF.tag(['the', 'men', 'attended', 'to', 'the', 'meetings'])\n",
        "  print(test)\n",
        "  print(\"--- trained in %s seconds ---\" % (time_spent))\n",
        "  print(\"--- evaluated in %s seconds ---\" % (eval_time))\n",
        "  print(\"\\n\\n\")\n"
      ],
      "execution_count": null,
      "outputs": [
        {
          "output_type": "stream",
          "name": "stdout",
          "text": [
            "trainded on 500\n",
            "accuracy: 0.91\n",
            "[('the', 'DT'), ('men', 'NN'), ('attended', 'VBD'), ('to', 'TO'), ('the', 'DT'), ('meetings', 'NNS')]\n",
            "--- trained in 4.43401575088501 seconds ---\n",
            "--- evaluated in 1.0408265590667725 seconds ---\n",
            "\n",
            "\n",
            "\n",
            "trainded on 1000\n",
            "accuracy: 0.925\n",
            "[('the', 'DT'), ('men', 'NNS'), ('attended', 'VBD'), ('to', 'TO'), ('the', 'DT'), ('meetings', 'NNS')]\n",
            "--- trained in 11.470499515533447 seconds ---\n",
            "--- evaluated in 0.8834707736968994 seconds ---\n",
            "\n",
            "\n",
            "\n",
            "trainded on 1500\n",
            "accuracy: 0.933\n",
            "[('the', 'DT'), ('men', 'NNS'), ('attended', 'VBD'), ('to', 'TO'), ('the', 'DT'), ('meetings', 'NNS')]\n",
            "--- trained in 19.99679136276245 seconds ---\n",
            "--- evaluated in 0.907804012298584 seconds ---\n",
            "\n",
            "\n",
            "\n",
            "trainded on 2000\n",
            "accuracy: 0.939\n",
            "[('the', 'DT'), ('men', 'NNS'), ('attended', 'VBD'), ('to', 'TO'), ('the', 'DT'), ('meetings', 'NNS')]\n",
            "--- trained in 32.10358715057373 seconds ---\n",
            "--- evaluated in 0.9139218330383301 seconds ---\n",
            "\n",
            "\n",
            "\n",
            "trainded on 2500\n",
            "accuracy: 0.943\n",
            "[('the', 'DT'), ('men', 'NNS'), ('attended', 'VBD'), ('to', 'TO'), ('the', 'DT'), ('meetings', 'NNS')]\n",
            "--- trained in 45.309916734695435 seconds ---\n",
            "--- evaluated in 0.9121408462524414 seconds ---\n",
            "\n",
            "\n",
            "\n",
            "trainded on 3000\n",
            "accuracy: 0.947\n",
            "[('the', 'DT'), ('men', 'NNS'), ('attended', 'VBD'), ('to', 'TO'), ('the', 'DT'), ('meetings', 'NNS')]\n",
            "--- trained in 54.9536292552948 seconds ---\n",
            "--- evaluated in 0.9338133335113525 seconds ---\n",
            "\n",
            "\n",
            "\n"
          ]
        }
      ]
    },
    {
      "cell_type": "code",
      "metadata": {
        "colab": {
          "base_uri": "https://localhost:8080/"
        },
        "id": "-28sxfUeoRFj",
        "outputId": "f27f47af-4af3-476b-feca-7e47e7b32d1e"
      },
      "source": [
        "#HMM example\n",
        "trainer = nltk.tag.hmm.HiddenMarkovModelTrainer()\n",
        "counter=1\n",
        "HMM_results = []\n",
        "timeHMM=[]\n",
        "eval_time_HMM = []\n",
        "for i in dataArray:\n",
        "    print(\"trained on \" + str(counter*500))\n",
        "    start_time = time.time()\n",
        "    HMM = trainer.train_supervised(i)\n",
        "    time_spent = time.time() - start_time\n",
        "    start_time = time.time()\n",
        "    accuracy = round(HMM.evaluate(test_data), 3)\n",
        "    eval_time = time.time() - start_time\n",
        "    eval_time_HMM.append(eval_time)\n",
        "    HMM_results.append(accuracy)\n",
        "    print('accuracy: ' + str(accuracy))\n",
        "    test=HMM.tag(['the', 'men', 'attended', 'to', 'the', 'meetings'])\n",
        "    print(test)\n",
        "    print(\"--- trained in %s seconds ---\" % (time_spent))\n",
        "    print(\"--- evaluated in %s seconds ---\" % (eval_time))\n",
        "    timeHMM.append(time_spent)\n",
        "    print(\"\\n\\n\")\n",
        "    counter=counter+1\n"
      ],
      "execution_count": null,
      "outputs": [
        {
          "output_type": "stream",
          "name": "stdout",
          "text": [
            "trained on 500\n",
            "accuracy: 0.173\n",
            "[('the', 'DT'), ('men', 'NNP'), ('attended', 'NNP'), ('to', 'NNP'), ('the', 'NNP'), ('meetings', 'NNP')]\n",
            "--- trained in 0.20212769508361816 seconds ---\n",
            "--- evaluated in 8.579485177993774 seconds ---\n",
            "\n",
            "\n",
            "\n",
            "trained on 1000\n",
            "accuracy: 0.221\n",
            "[('the', 'DT'), ('men', 'NNP'), ('attended', 'NNP'), ('to', 'NNP'), ('the', 'NNP'), ('meetings', 'NNP')]\n",
            "--- trained in 0.423386812210083 seconds ---\n",
            "--- evaluated in 9.376102209091187 seconds ---\n",
            "\n",
            "\n",
            "\n",
            "trained on 1500\n",
            "accuracy: 0.262\n",
            "[('the', 'DT'), ('men', 'NNS'), ('attended', 'NNP'), ('to', 'NNP'), ('the', 'NNP'), ('meetings', 'NNP')]\n",
            "--- trained in 0.6250088214874268 seconds ---\n",
            "--- evaluated in 10.018921136856079 seconds ---\n",
            "\n",
            "\n",
            "\n",
            "trained on 2000\n",
            "accuracy: 0.304\n",
            "[('the', 'DT'), ('men', 'NNS'), ('attended', 'VBD'), ('to', 'TO'), ('the', 'DT'), ('meetings', 'NNS')]\n",
            "--- trained in 0.8606200218200684 seconds ---\n",
            "--- evaluated in 10.307266235351562 seconds ---\n",
            "\n",
            "\n",
            "\n",
            "trained on 2500\n",
            "accuracy: 0.335\n",
            "[('the', 'DT'), ('men', 'NNS'), ('attended', 'VBD'), ('to', 'TO'), ('the', 'DT'), ('meetings', 'NNS')]\n",
            "--- trained in 1.0467722415924072 seconds ---\n",
            "--- evaluated in 10.499659299850464 seconds ---\n",
            "\n",
            "\n",
            "\n",
            "trained on 3000\n",
            "accuracy: 0.368\n",
            "[('the', 'DT'), ('men', 'NNS'), ('attended', 'VBD'), ('to', 'TO'), ('the', 'DT'), ('meetings', 'NNS')]\n",
            "--- trained in 1.2392351627349854 seconds ---\n",
            "--- evaluated in 10.600460290908813 seconds ---\n",
            "\n",
            "\n",
            "\n"
          ]
        }
      ]
    },
    {
      "cell_type": "code",
      "metadata": {
        "colab": {
          "base_uri": "https://localhost:8080/"
        },
        "id": "t8KXVMBNpnYL",
        "outputId": "d9ee5c76-6d00-42e5-da9d-3e9473e934bf"
      },
      "source": [
        "#TnT example\n",
        "TnT = nltk.tag.tnt.TnT()\n",
        "TnT_results = []\n",
        "timeTnT=[]\n",
        "eval_time_TnT = []\n",
        "for train_data in dataArray:\n",
        "  print(\"trainded on\", len(train_data))\n",
        "  start_time = time.time()\n",
        "  TnT.train(train_data)\n",
        "  time_spent = time.time() - start_time\n",
        "  start_time = time.time()\n",
        "  accuracy = round(TnT.evaluate(test_data), 3)\n",
        "  eval_time = time.time() - start_time\n",
        "  eval_time_TnT.append(eval_time)\n",
        "  TnT_results.append(accuracy)\n",
        "  print('accuracy: ' + str(accuracy))\n",
        "  TnT.tag(['the', 'men', 'attended', 'to', 'the', 'meetings'])\n",
        "  print(test)\n",
        "  print(\"--- trained in %s seconds ---\" % (time_spent))\n",
        "  print(\"--- evaluated in %s seconds ---\" % (eval_time))\n",
        "  timeTnT.append(time_spent)\n",
        "  print(\"\\n\\n\")\n"
      ],
      "execution_count": null,
      "outputs": [
        {
          "output_type": "stream",
          "name": "stdout",
          "text": [
            "trainded on 500\n",
            "accuracy: 0.747\n",
            "[('the', 'DT'), ('men', 'NNS'), ('attended', 'VBD'), ('to', 'TO'), ('the', 'DT'), ('meetings', 'NNS')]\n",
            "--- trained in 0.3065512180328369 seconds ---\n",
            "--- evaluated in 17.582540273666382 seconds ---\n",
            "\n",
            "\n",
            "\n",
            "trainded on 1000\n",
            "accuracy: 0.796\n",
            "[('the', 'DT'), ('men', 'NNS'), ('attended', 'VBD'), ('to', 'TO'), ('the', 'DT'), ('meetings', 'NNS')]\n",
            "--- trained in 0.5733785629272461 seconds ---\n",
            "--- evaluated in 45.03550720214844 seconds ---\n",
            "\n",
            "\n",
            "\n",
            "trainded on 1500\n",
            "accuracy: 0.827\n",
            "[('the', 'DT'), ('men', 'NNS'), ('attended', 'VBD'), ('to', 'TO'), ('the', 'DT'), ('meetings', 'NNS')]\n",
            "--- trained in 0.8096468448638916 seconds ---\n",
            "--- evaluated in 73.73748540878296 seconds ---\n",
            "\n",
            "\n",
            "\n",
            "trainded on 2000\n",
            "accuracy: 0.848\n",
            "[('the', 'DT'), ('men', 'NNS'), ('attended', 'VBD'), ('to', 'TO'), ('the', 'DT'), ('meetings', 'NNS')]\n",
            "--- trained in 1.076977252960205 seconds ---\n",
            "--- evaluated in 92.5980179309845 seconds ---\n",
            "\n",
            "\n",
            "\n",
            "trainded on 2500\n",
            "accuracy: 0.862\n",
            "[('the', 'DT'), ('men', 'NNS'), ('attended', 'VBD'), ('to', 'TO'), ('the', 'DT'), ('meetings', 'NNS')]\n",
            "--- trained in 1.3325104713439941 seconds ---\n",
            "--- evaluated in 98.71757769584656 seconds ---\n",
            "\n",
            "\n",
            "\n",
            "trainded on 3000\n",
            "accuracy: 0.875\n",
            "[('the', 'DT'), ('men', 'NNS'), ('attended', 'VBD'), ('to', 'TO'), ('the', 'DT'), ('meetings', 'NNS')]\n",
            "--- trained in 1.6038379669189453 seconds ---\n",
            "--- evaluated in 103.39435625076294 seconds ---\n",
            "\n",
            "\n",
            "\n"
          ]
        }
      ]
    },
    {
      "cell_type": "code",
      "metadata": {
        "id": "JtcQG-GLp6Xj",
        "colab": {
          "base_uri": "https://localhost:8080/"
        },
        "outputId": "6d8f6e72-e755-4350-ca37-fe60980f46df"
      },
      "source": [
        "#perceptron\n",
        "PER = nltk.tag.perceptron.PerceptronTagger(load=False)\n",
        "counter=1\n",
        "PER_results = []\n",
        "timePER=[]\n",
        "eval_time_PER = []\n",
        "for i in dataArray:\n",
        "    print(\"trained on \" +str(counter*500))\n",
        "    start_time = time.time()\n",
        "    PER.train(i)\n",
        "    time_spent = time.time() - start_time\n",
        "    start_time = time.time()\n",
        "    accuracy = round(PER.evaluate(test_data), 3)\n",
        "    eval_time = time.time() - start_time\n",
        "    eval_time_PER.append(eval_time)\n",
        "    PER_results.append(accuracy)\n",
        "    print('accuracy: ' + str(accuracy))\n",
        "    test=PER.tag(['the', 'men', 'attended', 'to', 'the', 'meetings'])\n",
        "    print(test)\n",
        "    print(\"--- trained in %s seconds ---\" % (time_spent))\n",
        "    print(\"--- evaluated in %s seconds ---\" % (eval_time))\n",
        "    timePER.append(time_spent)\n",
        "    print(\"\\n\\n\")\n",
        "    counter=counter+1\n",
        "\n",
        "# sns.lineplot(x=x, y=PER_results)"
      ],
      "execution_count": null,
      "outputs": [
        {
          "output_type": "stream",
          "name": "stdout",
          "text": [
            "trained on 500\n",
            "accuracy: 0.914\n",
            "[('the', 'DT'), ('men', 'NN'), ('attended', 'VBD'), ('to', 'TO'), ('the', 'DT'), ('meetings', 'NNS')]\n",
            "--- trained in 3.3177530765533447 seconds ---\n",
            "--- evaluated in 1.7758727073669434 seconds ---\n",
            "\n",
            "\n",
            "\n",
            "trained on 1000\n",
            "accuracy: 0.932\n",
            "[('the', 'DT'), ('men', 'NNS'), ('attended', 'VBD'), ('to', 'TO'), ('the', 'DT'), ('meetings', 'NNS')]\n",
            "--- trained in 6.700852155685425 seconds ---\n",
            "--- evaluated in 1.791055679321289 seconds ---\n",
            "\n",
            "\n",
            "\n",
            "trained on 1500\n",
            "accuracy: 0.941\n",
            "[('the', 'DT'), ('men', 'NNS'), ('attended', 'VBD'), ('to', 'TO'), ('the', 'DT'), ('meetings', 'NNS')]\n",
            "--- trained in 10.241178750991821 seconds ---\n",
            "--- evaluated in 1.8359756469726562 seconds ---\n",
            "\n",
            "\n",
            "\n",
            "trained on 2000\n",
            "accuracy: 0.948\n",
            "[('the', 'DT'), ('men', 'NNS'), ('attended', 'VBD'), ('to', 'TO'), ('the', 'DT'), ('meetings', 'NNS')]\n",
            "--- trained in 14.11820673942566 seconds ---\n",
            "--- evaluated in 1.8243582248687744 seconds ---\n",
            "\n",
            "\n",
            "\n",
            "trained on 2500\n",
            "accuracy: 0.95\n",
            "[('the', 'DT'), ('men', 'NNS'), ('attended', 'VBD'), ('to', 'TO'), ('the', 'DT'), ('meetings', 'NNS')]\n",
            "--- trained in 17.30457830429077 seconds ---\n",
            "--- evaluated in 1.8355369567871094 seconds ---\n",
            "\n",
            "\n",
            "\n",
            "trained on 3000\n",
            "accuracy: 0.953\n",
            "[('the', 'DT'), ('men', 'NNS'), ('attended', 'VBD'), ('to', 'TO'), ('the', 'DT'), ('meetings', 'NNS')]\n",
            "--- trained in 20.592247009277344 seconds ---\n",
            "--- evaluated in 1.812053918838501 seconds ---\n",
            "\n",
            "\n",
            "\n"
          ]
        }
      ]
    },
    {
      "cell_type": "markdown",
      "metadata": {
        "id": "VY46DxSYoinj"
      },
      "source": [
        "Provide a figure with four learning curves, each per model type (X=training set size; Y=accuracy).\n",
        "\n",
        "Which model would you select? Justify the answer."
      ]
    },
    {
      "cell_type": "code",
      "metadata": {
        "id": "9e97HlwmoFNs"
      },
      "source": [
        "hmm_tag = ['HMM' for i in x]\n",
        "tnt_tag = ['TnT' for i in x]\n",
        "per_tag = ['PER' for i in x]\n",
        "crf_tag = ['CRF' for i in x]\n",
        "data = {'train size': [*x, *x, *x, *x],\n",
        "        'accuracy': [*HMM_results, *TnT_results, *PER_results, *CRF_results],\n",
        "        'model': [*hmm_tag, *tnt_tag, *per_tag, *crf_tag]}\n",
        "df_accuracy = pd.DataFrame(data)"
      ],
      "execution_count": null,
      "outputs": []
    },
    {
      "cell_type": "code",
      "metadata": {
        "id": "uz3j2KkHDMoL"
      },
      "source": [
        "hmm_tag = ['HMM' for i in x]\n",
        "tnt_tag = ['TnT' for i in x]\n",
        "per_tag = ['PER' for i in x]\n",
        "crf_tag = ['CRF' for i in x]\n",
        "data = {'train size': [*x, *x, *x, *x],\n",
        "        'time': [*timeHMM, *timeTnT, *timePER, *timeCRF],\n",
        "        'model': [*hmm_tag, *tnt_tag, *per_tag, *crf_tag]}\n",
        "df_train_time = pd.DataFrame(data)"
      ],
      "execution_count": null,
      "outputs": []
    },
    {
      "cell_type": "code",
      "metadata": {
        "id": "IOiCxZT1Qw3_"
      },
      "source": [
        "hmm_tag = ['HMM' for i in x]\n",
        "tnt_tag = ['TnT' for i in x]\n",
        "per_tag = ['PER' for i in x]\n",
        "crf_tag = ['CRF' for i in x]\n",
        "data = {'train size': [*x, *x, *x, *x],\n",
        "        'eval time': [*eval_time_HMM, *eval_time_TnT, *eval_time_PER, *eval_time_CRF],\n",
        "        'model': [*hmm_tag, *tnt_tag, *per_tag, *crf_tag]}\n",
        "df_eval_time = pd.DataFrame(data)"
      ],
      "execution_count": null,
      "outputs": []
    },
    {
      "cell_type": "code",
      "metadata": {
        "colab": {
          "base_uri": "https://localhost:8080/",
          "height": 404
        },
        "id": "r_O2yhR-U3Q-",
        "outputId": "7e70ec68-a22c-43ed-e1fc-415fed7fe48a"
      },
      "source": [
        "import matplotlib.pyplot as plt\n",
        "\n",
        "plt.figure(figsize=(20,6))\n",
        "plt.subplot(131)\n",
        "sns.lineplot(data=df_accuracy, x='train size', y='accuracy', hue='model')\n",
        "plt.title(\"Models accuracy\")\n",
        "\n",
        "plt.subplot(132)\n",
        "sns.lineplot(data=df_train_time, x='train size', y='time', hue='model')\n",
        "plt.title(\"Models training time\")\n",
        "\n",
        "plt.subplot(133)\n",
        "sns.lineplot(data=df_eval_time, x='train size', y='eval time', hue='model')\n",
        "plt.title(\"Models evaluation time\")\n",
        "\n",
        "plt.show()"
      ],
      "execution_count": null,
      "outputs": [
        {
          "output_type": "display_data",
          "data": {
            "image/png": "[encoded data removed]",
            "text/plain": [
              "<Figure size 1440x432 with 3 Axes>"
            ]
          },
          "metadata": {
            "needs_background": "light"
          }
        }
      ]
    },
    {
      "cell_type": "markdown",
      "metadata": {
        "id": "7Tp7mKXELq7K"
      },
      "source": [
        "Looking at the results, the most accurate model was the PER model, which was closely followed by the CRF model. Between these two the PER model is better because it performs better as well as trains faster than the CRF model and has a similar evaluation time to the CRF model. The two fastest training models were TNT and HMM models. Between these two it may be better to use the TNT model, because it is vastly more accurate than the HMM model. A drawback to the TNT model is that it takes much longer to evaluate its results, compared to the HMM model. As a result, it depends mainly on what you are prioritizing, if it is speed in training then it is the TNT model, if it is accuracy or the speed of evaluation then it is the PER model."
      ]
    }
  ]
}