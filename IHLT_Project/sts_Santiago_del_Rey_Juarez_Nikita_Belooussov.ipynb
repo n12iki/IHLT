{
 "nbformat": 4,
 "nbformat_minor": 0,
 "metadata": {
  "accelerator": "GPU",
  "colab": {
   "name": "Lab05-Santiago-del-Rey-Juarez_Nikita-Belooussov.ipynb",
   "provenance": [],
   "collapsed_sections": []
  },
  "interpreter": {
   "hash": "56b22a985f18d44d50171c67439d384ccb9cd51faf15dc17dcf099ae374960d9"
  },
  "kernelspec": {
   "name": "python3",
   "language": "python",
   "display_name": "Python 3 (ipykernel)"
  },
  "language_info": {
   "codemirror_mode": {
    "name": "ipython",
    "version": 3
   },
   "file_extension": ".py",
   "mimetype": "text/x-python",
   "name": "python",
   "nbconvert_exporter": "python",
   "pygments_lexer": "ipython3",
   "version": "3.9.7"
  }
 },
 "cells": [
  {
   "cell_type": "markdown",
   "metadata": {
    "id": "2jMkKylwoeys"
   },
   "source": [
    "# IHLT final project - Semantic Textual Similarity\n",
    "Students:\\\\\n",
    "Nikita Belooussov and Santiago del Rey Juárez\n",
    "\n",
    "## Introduction"
   ]
  },
  {
   "cell_type": "code",
   "metadata": {
    "colab": {
     "base_uri": "https://localhost:8080/"
    },
    "id": "8Nv-sb04fXE1",
    "outputId": "a35cc345-8843-4a63-f109-6db1d60463c9"
   },
   "source": [
    "import csv\n",
    "import os\n",
    "\n",
    "import nltk\n",
    "import pandas as pd\n",
    "import numpy as np\n",
    "\n",
    "nltk.download('wordnet')"
   ],
   "execution_count": 1,
   "outputs": [
    {
     "name": "stderr",
     "output_type": "stream",
     "text": [
      "[nltk_data] Downloading package wordnet to\n",
      "[nltk_data]     C:\\Users\\santi\\AppData\\Roaming\\nltk_data...\n",
      "[nltk_data]   Package wordnet is already up-to-date!\n"
     ]
    },
    {
     "data": {
      "text/plain": "True"
     },
     "execution_count": 1,
     "metadata": {},
     "output_type": "execute_result"
    }
   ]
  },
  {
   "cell_type": "code",
   "metadata": {
    "colab": {
     "base_uri": "https://localhost:8080/"
    },
    "id": "9JQ7tDdefeLz",
    "outputId": "7b3d0f2f-320f-413c-9830-1c68c735ba88",
    "pycharm": {
     "name": "#%%\n"
    }
   },
   "source": [
    "def read_file(file_path):\n",
    "    return pd.read_csv(file_path, sep='\\t', lineterminator='\\n', names=['sentence0', 'sentence1'], header=None,\n",
    "                       quoting=csv.QUOTE_NONE)"
   ],
   "execution_count": 5,
   "outputs": []
  },
  {
   "cell_type": "code",
   "execution_count": 8,
   "outputs": [
    {
     "data": {
      "text/plain": "                                           sentence0  \\\n0  But other sources close to the sale said Viven...   \n1  Micron has declared its first quarterly profit...   \n2  The fines are part of failed Republican effort...   \n3  The American Anglican Council, which represent...   \n4  The tech-loaded Nasdaq composite rose 20.96 po...   \n\n                                           sentence1  \n0  But other sources close to the sale said Viven...  \n1  Micron's numbers also marked the first quarter...  \n2  Perry said he backs the Senate's efforts, incl...  \n3  The American Anglican Council, which represent...  \n4  The technology-laced Nasdaq Composite Index <....  ",
      "text/html": "<div>\n<style scoped>\n    .dataframe tbody tr th:only-of-type {\n        vertical-align: middle;\n    }\n\n    .dataframe tbody tr th {\n        vertical-align: top;\n    }\n\n    .dataframe thead th {\n        text-align: right;\n    }\n</style>\n<table border=\"1\" class=\"dataframe\">\n  <thead>\n    <tr style=\"text-align: right;\">\n      <th></th>\n      <th>sentence0</th>\n      <th>sentence1</th>\n    </tr>\n  </thead>\n  <tbody>\n    <tr>\n      <th>0</th>\n      <td>But other sources close to the sale said Viven...</td>\n      <td>But other sources close to the sale said Viven...</td>\n    </tr>\n    <tr>\n      <th>1</th>\n      <td>Micron has declared its first quarterly profit...</td>\n      <td>Micron's numbers also marked the first quarter...</td>\n    </tr>\n    <tr>\n      <th>2</th>\n      <td>The fines are part of failed Republican effort...</td>\n      <td>Perry said he backs the Senate's efforts, incl...</td>\n    </tr>\n    <tr>\n      <th>3</th>\n      <td>The American Anglican Council, which represent...</td>\n      <td>The American Anglican Council, which represent...</td>\n    </tr>\n    <tr>\n      <th>4</th>\n      <td>The tech-loaded Nasdaq composite rose 20.96 po...</td>\n      <td>The technology-laced Nasdaq Composite Index &lt;....</td>\n    </tr>\n  </tbody>\n</table>\n</div>"
     },
     "execution_count": 8,
     "metadata": {},
     "output_type": "execute_result"
    }
   ],
   "source": [
    "path = os.path.join('data', 'train', 'STS.input.MSRpar.txt')\n",
    "df_input = read_file(path)\n",
    "df_input.head()"
   ],
   "metadata": {
    "collapsed": false,
    "pycharm": {
     "name": "#%%\n"
    }
   }
  }
 ]
}