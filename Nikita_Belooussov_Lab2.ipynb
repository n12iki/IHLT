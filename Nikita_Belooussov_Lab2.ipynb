{
  "nbformat": 4,
  "nbformat_minor": 0,
  "metadata": {
    "colab": {
      "name": "Nikita_Belooussov_Lab2.ipynb",
      "provenance": []
    },
    "kernelspec": {
      "name": "python3",
      "display_name": "Python 3"
    },
    "language_info": {
      "name": "python"
    }
  },
  "cells": [
    {
      "cell_type": "markdown",
      "metadata": {
        "id": "_mZn8H-5G8pN"
      },
      "source": [
        "Written by Nikita Belooussov\n",
        "<br>Path to data file was changed\n"
      ]
    },
    {
      "cell_type": "code",
      "metadata": {
        "colab": {
          "base_uri": "https://localhost:8080/"
        },
        "id": "v0hCfCBDSvjx",
        "outputId": "c798754d-501f-493a-d0db-ee2f0c0ed5a8"
      },
      "source": [
        "from google.colab import drive\n",
        "drive.mount('/content/drive')"
      ],
      "execution_count": null,
      "outputs": [
        {
          "output_type": "stream",
          "name": "stdout",
          "text": [
            "Mounted at /content/drive\n"
          ]
        }
      ]
    },
    {
      "cell_type": "code",
      "metadata": {
        "id": "wqN2pnIsUDNG"
      },
      "source": [
        "import pandas as pd\n",
        "from scipy.stats import pearsonr\n",
        "import nltk\n",
        "from nltk.metrics import jaccard_distance\n",
        "nltk.download('punkt')"
      ],
      "execution_count": null,
      "outputs": []
    },
    {
      "cell_type": "code",
      "metadata": {
        "id": "HCruX42kUF7J"
      },
      "source": [
        "dt = pd.read_csv('/content/drive/My Drive/ihlt/test-gold/STS.input.SMTeuroparl.txt',sep='\\t',header=None)       #Path to data file"
      ],
      "execution_count": null,
      "outputs": []
    },
    {
      "cell_type": "code",
      "metadata": {
        "colab": {
          "base_uri": "https://localhost:8080/",
          "height": 204
        },
        "id": "MWGbb9fqUMOd",
        "outputId": "9a160cef-35db-475b-a900-4816ff53f258"
      },
      "source": [
        "dt.head()"
      ],
      "execution_count": null,
      "outputs": [
        {
          "output_type": "execute_result",
          "data": {
            "text/html": [
              "<div>\n",
              "<style scoped>\n",
              "    .dataframe tbody tr th:only-of-type {\n",
              "        vertical-align: middle;\n",
              "    }\n",
              "\n",
              "    .dataframe tbody tr th {\n",
              "        vertical-align: top;\n",
              "    }\n",
              "\n",
              "    .dataframe thead th {\n",
              "        text-align: right;\n",
              "    }\n",
              "</style>\n",
              "<table border=\"1\" class=\"dataframe\">\n",
              "  <thead>\n",
              "    <tr style=\"text-align: right;\">\n",
              "      <th></th>\n",
              "      <th>0</th>\n",
              "      <th>1</th>\n",
              "    </tr>\n",
              "  </thead>\n",
              "  <tbody>\n",
              "    <tr>\n",
              "      <th>0</th>\n",
              "      <td>The leaders have now been given a new chance a...</td>\n",
              "      <td>The leaders benefit aujourd' hui of a new luck...</td>\n",
              "    </tr>\n",
              "    <tr>\n",
              "      <th>1</th>\n",
              "      <td>Amendment No 7 proposes certain changes in the...</td>\n",
              "      <td>Amendment No 7 is proposing certain changes in...</td>\n",
              "    </tr>\n",
              "    <tr>\n",
              "      <th>2</th>\n",
              "      <td>Let me remind you that our allies include ferv...</td>\n",
              "      <td>I would like to remind you that among our alli...</td>\n",
              "    </tr>\n",
              "    <tr>\n",
              "      <th>3</th>\n",
              "      <td>The vote will take place today at 5.30 p.m.</td>\n",
              "      <td>The vote will take place at 5.30pm</td>\n",
              "    </tr>\n",
              "    <tr>\n",
              "      <th>4</th>\n",
              "      <td>The fishermen are inactive, tired and disappoi...</td>\n",
              "      <td>The fishermen are inactive, tired and disappoi...</td>\n",
              "    </tr>\n",
              "  </tbody>\n",
              "</table>\n",
              "</div>"
            ],
            "text/plain": [
              "                                                   0                                                  1\n",
              "0  The leaders have now been given a new chance a...  The leaders benefit aujourd' hui of a new luck...\n",
              "1  Amendment No 7 proposes certain changes in the...  Amendment No 7 is proposing certain changes in...\n",
              "2  Let me remind you that our allies include ferv...  I would like to remind you that among our alli...\n",
              "3        The vote will take place today at 5.30 p.m.                 The vote will take place at 5.30pm\n",
              "4  The fishermen are inactive, tired and disappoi...  The fishermen are inactive, tired and disappoi..."
            ]
          },
          "metadata": {},
          "execution_count": 6
        }
      ]
    },
    {
      "cell_type": "code",
      "metadata": {
        "colab": {
          "base_uri": "https://localhost:8080/",
          "height": 204
        },
        "id": "o2zItygPUPnr",
        "outputId": "bfaa7cdb-c8fb-4a8f-ff6f-7573908b15eb"
      },
      "source": [
        "dt['gs'] = pd.read_csv('/content/drive/My Drive/ihlt/test-gold/STS.gs.SMTeuroparl.txt',sep='\\t',header=None)             #Path to data file\n",
        "dt.shape\n",
        "dt.head()"
      ],
      "execution_count": null,
      "outputs": [
        {
          "output_type": "execute_result",
          "data": {
            "text/html": [
              "<div>\n",
              "<style scoped>\n",
              "    .dataframe tbody tr th:only-of-type {\n",
              "        vertical-align: middle;\n",
              "    }\n",
              "\n",
              "    .dataframe tbody tr th {\n",
              "        vertical-align: top;\n",
              "    }\n",
              "\n",
              "    .dataframe thead th {\n",
              "        text-align: right;\n",
              "    }\n",
              "</style>\n",
              "<table border=\"1\" class=\"dataframe\">\n",
              "  <thead>\n",
              "    <tr style=\"text-align: right;\">\n",
              "      <th></th>\n",
              "      <th>0</th>\n",
              "      <th>1</th>\n",
              "      <th>gs</th>\n",
              "    </tr>\n",
              "  </thead>\n",
              "  <tbody>\n",
              "    <tr>\n",
              "      <th>0</th>\n",
              "      <td>The leaders have now been given a new chance a...</td>\n",
              "      <td>The leaders benefit aujourd' hui of a new luck...</td>\n",
              "      <td>4.50</td>\n",
              "    </tr>\n",
              "    <tr>\n",
              "      <th>1</th>\n",
              "      <td>Amendment No 7 proposes certain changes in the...</td>\n",
              "      <td>Amendment No 7 is proposing certain changes in...</td>\n",
              "      <td>5.00</td>\n",
              "    </tr>\n",
              "    <tr>\n",
              "      <th>2</th>\n",
              "      <td>Let me remind you that our allies include ferv...</td>\n",
              "      <td>I would like to remind you that among our alli...</td>\n",
              "      <td>4.25</td>\n",
              "    </tr>\n",
              "    <tr>\n",
              "      <th>3</th>\n",
              "      <td>The vote will take place today at 5.30 p.m.</td>\n",
              "      <td>The vote will take place at 5.30pm</td>\n",
              "      <td>4.50</td>\n",
              "    </tr>\n",
              "    <tr>\n",
              "      <th>4</th>\n",
              "      <td>The fishermen are inactive, tired and disappoi...</td>\n",
              "      <td>The fishermen are inactive, tired and disappoi...</td>\n",
              "      <td>5.00</td>\n",
              "    </tr>\n",
              "  </tbody>\n",
              "</table>\n",
              "</div>"
            ],
            "text/plain": [
              "                                                   0  ...    gs\n",
              "0  The leaders have now been given a new chance a...  ...  4.50\n",
              "1  Amendment No 7 proposes certain changes in the...  ...  5.00\n",
              "2  Let me remind you that our allies include ferv...  ...  4.25\n",
              "3        The vote will take place today at 5.30 p.m.  ...  4.50\n",
              "4  The fishermen are inactive, tired and disappoi...  ...  5.00\n",
              "\n",
              "[5 rows x 3 columns]"
            ]
          },
          "metadata": {},
          "execution_count": 7
        }
      ]
    },
    {
      "cell_type": "code",
      "metadata": {
        "colab": {
          "base_uri": "https://localhost:8080/"
        },
        "id": "ujhwQ50Y-FB-",
        "outputId": "dd52ea43-dfc1-4c88-b89c-51f78cb98056"
      },
      "source": [
        "#pearsonr(dt['gs'], dt['jaccard'])[0]\n",
        "totDist=[]\n",
        "for j in range(len(dt[1])):\n",
        "    x=nltk.word_tokenize(dt[0][j])\n",
        "    y=nltk.word_tokenize(dt[1][j])\n",
        "    totDist.append(1-jaccard_distance(set(x),set(y)))\n",
        "dt['jaccard']=totDist\n",
        "print(dt[['jaccard', 'gs']])\n",
        "\n",
        "print(\"\\nPearson Correlation Between gold standard and jaccard:\")\n",
        "print(pearsonr(dt['gs'], dt['jaccard'])[0])"
      ],
      "execution_count": null,
      "outputs": [
        {
          "output_type": "stream",
          "name": "stdout",
          "text": [
            "      jaccard     gs\n",
            "0    0.346154  4.500\n",
            "1    0.785714  5.000\n",
            "2    0.391304  4.250\n",
            "3    0.545455  4.500\n",
            "4    1.000000  5.000\n",
            "..        ...    ...\n",
            "454  0.550000  5.000\n",
            "455  0.357143  4.750\n",
            "456  0.400000  5.000\n",
            "457  0.318182  4.000\n",
            "458  0.500000  3.833\n",
            "\n",
            "[459 rows x 2 columns]\n",
            "\n",
            "Pearson Correlation Between gold standard and jaccard:\n",
            "0.4504977169318684\n"
          ]
        }
      ]
    },
    {
      "cell_type": "markdown",
      "metadata": {
        "id": "gpyKHdSivnI9"
      },
      "source": [
        "This result makes sense due to both measuring the similarities between the two phrases. The Jaccard method clearly will not produce the same value as the gold standard and most likely performces worse than it. As a result, there should be a correlation between the two results, as seen and it should be positive, which is also demonstrated. Since it would not make sense for one result to be better if the other is worse."
      ]
    }
  ]
}