{
  "nbformat": 4,
  "nbformat_minor": 0,
  "metadata": {
    "colab": {
      "name": "Lab1NB.ipynb",
      "provenance": [],
      "collapsed_sections": []
    },
    "kernelspec": {
      "name": "python3",
      "display_name": "Python 3"
    },
    "language_info": {
      "name": "python"
    }
  },
  "cells": [
    {
      "cell_type": "markdown",
      "metadata": {
        "id": "M-J-PRcV7MOf"
      },
      "source": [
        "Written by Nikita Belooussov\n",
        "<br>Made to return the top 25 stop words and how many times they have occured\n",
        "<br>Only works with python 3.7 and higher\n",
        "<br>For lower versions of python it is required to use an OrderedDict instead of a normal dictionary."
      ]
    },
    {
      "cell_type": "code",
      "metadata": {
        "colab": {
          "base_uri": "https://localhost:8080/"
        },
        "id": "CSA5hSqO7Lgx",
        "outputId": "9d355747-4410-4be2-e8c1-1500d8f119cd"
      },
      "source": [
        "import nltk\n",
        "nltk.download('gutenberg')\n",
        "nltk.download('stopwords')\n",
        "\n",
        "from nltk.corpus import stopwords"
      ],
      "execution_count": 1,
      "outputs": [
        {
          "output_type": "stream",
          "name": "stdout",
          "text": [
            "[nltk_data] Downloading package gutenberg to /root/nltk_data...\n",
            "[nltk_data]   Unzipping corpora/gutenberg.zip.\n",
            "[nltk_data] Downloading package stopwords to /root/nltk_data...\n",
            "[nltk_data]   Unzipping corpora/stopwords.zip.\n"
          ]
        }
      ]
    },
    {
      "cell_type": "code",
      "metadata": {
        "colab": {
          "base_uri": "https://localhost:8080/"
        },
        "id": "1AAsd7qY7QUl",
        "outputId": "b6ff427a-a2a7-48ca-cf28-c5ad9f047a8e"
      },
      "source": [
        "txt = nltk.corpus.gutenberg.words('blake-poems.txt')                                                          #gets the poems, returns an object that looks like a list but is a nltk datatype\n",
        "stop_words = set(stopwords.words(\"english\"))                                                                  #creates a set of the english stop words\n",
        "values={}\n",
        "for i in stop_words:                                                                                          #counts how many times each stop word appears in the poems\n",
        "  values[i]=txt.count(i)\n",
        "orderedValues={key: value for key, value in sorted(values.items(), key=lambda item: item[1],reverse=True)}    #This is the line that requires the python version to be above 3.7, if using lower than the orderValues variable needs to be an orderedDict\n",
        "count=0\n",
        "result=[]\n",
        "for i in orderedValues:                                                                                       #prints the top 25 stop words in the text file\n",
        "  if count==25:\n",
        "    break\n",
        "  print (str(i)+\":  \"+str(orderedValues[i]))\n",
        "  count=count+1"
      ],
      "execution_count": 2,
      "outputs": [
        {
          "output_type": "stream",
          "name": "stdout",
          "text": [
            "the:  351\n",
            "and:  169\n",
            "of:  131\n",
            "in:  116\n",
            "a:  108\n",
            "to:  92\n",
            "my:  72\n",
            "with:  59\n",
            "his:  49\n",
            "is:  45\n",
            "s:  43\n",
            "not:  37\n",
            "he:  35\n",
            "on:  34\n",
            "their:  34\n",
            "me:  34\n",
            "her:  32\n",
            "all:  31\n",
            "they:  30\n",
            "was:  30\n",
            "from:  28\n",
            "it:  26\n",
            "be:  25\n",
            "our:  22\n",
            "d:  22\n"
          ]
        }
      ]
    }
  ]
}